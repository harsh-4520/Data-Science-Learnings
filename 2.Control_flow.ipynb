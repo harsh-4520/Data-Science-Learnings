{
 "cells": [
  {
   "cell_type": "code",
   "execution_count": 3,
   "id": "a92ca52f-6450-4a28-8415-586202fe9481",
   "metadata": {},
   "outputs": [
    {
     "name": "stdout",
     "output_type": "stream",
     "text": [
      "You are eligible to vote.\n"
     ]
    }
   ],
   "source": [
    "#if condition\n",
    "age = 45\n",
    "if age>18:\n",
    "    print(\"You are eligible to vote.\")"
   ]
  },
  {
   "cell_type": "code",
   "execution_count": 4,
   "id": "0ec82241-09cb-4e56-964b-af179677def8",
   "metadata": {},
   "outputs": [
    {
     "name": "stdout",
     "output_type": "stream",
     "text": [
      "You are eligible to vote.\n"
     ]
    }
   ],
   "source": [
    "# if - else condition\n",
    "if age>= 18:\n",
    "    print(\"You are eligible to vote.\")\n",
    "else:\n",
    "    print(\"You are a kid.\")"
   ]
  },
  {
   "cell_type": "code",
   "execution_count": 2,
   "id": "d7e9a57e-3ac9-4094-a934-a2950fd28fa5",
   "metadata": {},
   "outputs": [],
   "source": [
    "### Input Function"
   ]
  },
  {
   "cell_type": "code",
   "execution_count": null,
   "id": "2ac57884-81ff-4c13-af7f-56f06cfa667e",
   "metadata": {},
   "outputs": [],
   "source": [
    "name = input(\"What is your name? \") #let's you prompt anything"
   ]
  },
  {
   "cell_type": "code",
   "execution_count": null,
   "id": "3b4a4b2e-a104-413c-9495-277e01b42817",
   "metadata": {},
   "outputs": [],
   "source": [
    "#we can also typecast while using input\n",
    "name = str(input(\"What is your name? \"))"
   ]
  },
  {
   "cell_type": "code",
   "execution_count": 5,
   "id": "bce6ff94-663e-4bb8-b6eb-1e121fff9c8c",
   "metadata": {},
   "outputs": [
    {
     "data": {
      "text/plain": [
       "str"
      ]
     },
     "execution_count": 5,
     "metadata": {},
     "output_type": "execute_result"
    }
   ],
   "source": [
    "type(name)"
   ]
  },
  {
   "cell_type": "code",
   "execution_count": 5,
   "id": "8861e5ea-3e59-448d-9c4f-205054413363",
   "metadata": {},
   "outputs": [
    {
     "name": "stdin",
     "output_type": "stream",
     "text": [
      "What is the price:  2000\n"
     ]
    },
    {
     "name": "stdout",
     "output_type": "stream",
     "text": [
      "you will get 50% discount, enjoy!!\n"
     ]
    }
   ],
   "source": [
    "# if-else-elif\n",
    "price = int(input(\"What is the price: \"))\n",
    "if price > 10000:\n",
    "    print(\"You don't coupons, you are rich.\")\n",
    "elif price > 5000:\n",
    "    print(\"you will get 10 per cent discount.\")\n",
    "else:\n",
    "    print(\"you will get 50% discount, enjoy!!\")"
   ]
  },
  {
   "cell_type": "markdown",
   "id": "b60faffb-b0fb-424e-9c97-bd940bc45a8b",
   "metadata": {},
   "source": [
    "## Loops"
   ]
  },
  {
   "cell_type": "code",
   "execution_count": 16,
   "id": "1b17d96c-6c45-464b-b040-2eb7102be5db",
   "metadata": {},
   "outputs": [
    {
     "name": "stdout",
     "output_type": "stream",
     "text": [
      "0\n",
      "odd\n",
      "2\n",
      "odd\n",
      "4\n",
      "odd\n",
      "6\n",
      "odd\n",
      "8\n",
      "odd\n",
      "10\n",
      "odd\n",
      "12\n",
      "odd\n",
      "14\n",
      "odd\n",
      "16\n",
      "odd\n",
      "18\n",
      "odd\n",
      "20\n"
     ]
    }
   ],
   "source": [
    "#for loop - it is a definite loop, it automatically stops as its range finishes\n",
    "num = 21\n",
    "for i in range(num):\n",
    "    if i %2==0:\n",
    "        print(i)\n",
    "    else:\n",
    "        print(\"odd\")"
   ]
  },
  {
   "cell_type": "code",
   "execution_count": 6,
   "id": "4c901d7a-d1de-47c9-a2ec-1c33575f1312",
   "metadata": {},
   "outputs": [
    {
     "name": "stdout",
     "output_type": "stream",
     "text": [
      "21\n",
      "23\n",
      "25\n",
      "27\n",
      "29\n",
      "31\n",
      "33\n"
     ]
    }
   ],
   "source": [
    "#while loop - it is an indefine loop, we need to give condition to let it stop.\n",
    "age = 21\n",
    "while age<35:\n",
    "    print(age)\n",
    "    age = age + 2"
   ]
  },
  {
   "cell_type": "code",
   "execution_count": 4,
   "id": "d2848157-8269-4c71-af2a-7a618ff2dc1b",
   "metadata": {},
   "outputs": [
    {
     "name": "stdin",
     "output_type": "stream",
     "text": [
      "Write your number:-  -5\n"
     ]
    },
    {
     "name": "stdout",
     "output_type": "stream",
     "text": [
      "-ve number.\n"
     ]
    }
   ],
   "source": [
    "\"\"\"\n",
    "Write code using nested loop , showing whether a number is zero , positive or negative.\n",
    "\"\"\"\n",
    "num = int(input(\"Write your number:- \"))\n",
    "if num >= 0:\n",
    "    if num > 0:\n",
    "        print(\"+ve number.\")\n",
    "    elif num == 0:\n",
    "        print(\"It's zero.\")\n",
    "else:\n",
    "    print(\"-ve number.\")\n",
    "    \n"
   ]
  },
  {
   "cell_type": "code",
   "execution_count": 5,
   "id": "09df193f-797b-45ce-88e1-5295acd126ae",
   "metadata": {},
   "outputs": [
    {
     "name": "stdout",
     "output_type": "stream",
     "text": [
      "Mango\n",
      "Tomato\n",
      "Kiwi\n",
      "Pine\n",
      "Apple\n",
      "Banana\n"
     ]
    }
   ],
   "source": [
    "\"\"\"\n",
    "Write a for loop picking items from an list.\n",
    "\"\"\"\n",
    "fruit_name = [\"Mango\",\"Tomato\",\"Kiwi\",\"Pine\",\"Apple\",\"Banana\"]\n",
    "for i in fruit_name:\n",
    "    print(i)"
   ]
  },
  {
   "cell_type": "code",
   "execution_count": 24,
   "id": "34e03af1-9eaa-47bd-a6fd-398f976e84ed",
   "metadata": {},
   "outputs": [
    {
     "name": "stdout",
     "output_type": "stream",
     "text": [
      "M\n",
      "a\n",
      "n\n",
      "g\n",
      "o\n"
     ]
    }
   ],
   "source": [
    "strngs = \"Mango\"\n",
    "for i in strngs:\n",
    "    print(i)"
   ]
  },
  {
   "cell_type": "code",
   "execution_count": 22,
   "id": "cb0e97d2-b6ee-4131-8972-50ae732f037e",
   "metadata": {},
   "outputs": [
    {
     "name": "stdin",
     "output_type": "stream",
     "text": [
      "Of how many rows you want to make a triangle:-  5\n"
     ]
    },
    {
     "name": "stdout",
     "output_type": "stream",
     "text": [
      "* \n",
      "* * \n",
      "* * * \n",
      "* * * * \n",
      "* * * * * \n"
     ]
    }
   ],
   "source": [
    "#make a triangle \n",
    "n = int(input(\"Of how many rows you want to make a triangle:- \"))\n",
    "for i in range(n):\n",
    "    for j in range(i+1):\n",
    "        print(\"* \",end = \"\")\n",
    "    print()"
   ]
  },
  {
   "cell_type": "code",
   "execution_count": 39,
   "id": "0960f7a5-efb5-4f31-9d01-b6691577e5fb",
   "metadata": {},
   "outputs": [
    {
     "name": "stdin",
     "output_type": "stream",
     "text": [
      "Tell me how many rows you want:-  5\n"
     ]
    },
    {
     "name": "stdout",
     "output_type": "stream",
     "text": [
      "# # # # # \n",
      "# # # # \n",
      "# # # \n",
      "# # \n",
      "# \n"
     ]
    }
   ],
   "source": [
    "k = int(input(\"Tell me how many rows you want:- \"))\n",
    "for i in range(k):\n",
    "    for j in range(k-i):\n",
    "        print(\"# \",end='')\n",
    "    print()\n",
    "    "
   ]
  },
  {
   "cell_type": "code",
   "execution_count": 56,
   "id": "264316eb-1e2b-4fcb-b4f9-e6ad78a89bc7",
   "metadata": {
    "tags": []
   },
   "outputs": [
    {
     "name": "stdin",
     "output_type": "stream",
     "text": [
      "Tell how many rows you want:-  10\n"
     ]
    },
    {
     "name": "stdout",
     "output_type": "stream",
     "text": [
      "                            * \n",
      "                         *  * \n",
      "                      *  *  * \n",
      "                   *  *  *  * \n",
      "                *  *  *  *  * \n",
      "             *  *  *  *  *  * \n",
      "          *  *  *  *  *  *  * \n",
      "       *  *  *  *  *  *  *  * \n",
      "    *  *  *  *  *  *  *  *  * \n",
      " *  *  *  *  *  *  *  *  *  * \n"
     ]
    }
   ],
   "source": [
    "n=int(input(\"Tell how many rows you want:- \"))\n",
    "for i in range(n):\n",
    "    for j in range(n-1-i):\n",
    "        print(\"  \",end=' ')   #--->gives blank\n",
    "    for k in range(i+1):\n",
    "        print(\" *\",end=\" \")  #--->prints *\n",
    "    print()\n",
    "        \n",
    "        "
   ]
  },
  {
   "cell_type": "code",
   "execution_count": 58,
   "id": "360308a0-23ea-472f-956b-259e51ad30a9",
   "metadata": {},
   "outputs": [
    {
     "name": "stdin",
     "output_type": "stream",
     "text": [
      "Tell how many rows you want:-  5\n"
     ]
    },
    {
     "name": "stdout",
     "output_type": "stream",
     "text": [
      "             *  * \n",
      "          *  *  *  * \n",
      "       *  *  *  *  *  * \n",
      "    *  *  *  *  *  *  *  * \n",
      " *  *  *  *  *  *  *  *  *  * \n"
     ]
    }
   ],
   "source": [
    "#make a hill\n",
    "n=int(input(\"Tell how many rows you want:- \"))\n",
    "for i in range(n):\n",
    "    for x in range(n-1-i):\n",
    "        print(\"  \",end=' ')   #--->gives blank\n",
    "    for k in range(2):\n",
    "        for m in range(i+1):\n",
    "            print(\" *\",end=\" \")  #--->prints *\n",
    "    \n",
    "    print()\n",
    "    "
   ]
  },
  {
   "cell_type": "markdown",
   "id": "13e05c0b-57a8-435d-8aad-249260336422",
   "metadata": {},
   "source": [
    "## Break Statement"
   ]
  },
  {
   "cell_type": "code",
   "execution_count": 3,
   "id": "b1eddb13-6edf-4dc7-9652-b3131fbd2f98",
   "metadata": {},
   "outputs": [
    {
     "name": "stdin",
     "output_type": "stream",
     "text": [
      "Give me a number:->  2\n"
     ]
    },
    {
     "name": "stdout",
     "output_type": "stream",
     "text": [
      "2\n",
      "3\n",
      "4\n",
      "5\n",
      "Last number is -> 5\n"
     ]
    }
   ],
   "source": [
    "# an example of break statement\n",
    "num = int(input(\"Give me a number:-> \"))\n",
    "while num <10:\n",
    "    print(num)\n",
    "    if num == 5:            #when we prompt a number less than 5, as that number increments and hits 5\n",
    "        break               # it stoped itself from incrementing , and came out of that loop\n",
    "    num += 1\n",
    "print(\"Last number is ->\",num)"
   ]
  },
  {
   "cell_type": "code",
   "execution_count": 5,
   "id": "603d10da-fcfc-4125-8f2b-ac85ae80cce8",
   "metadata": {},
   "outputs": [
    {
     "name": "stdout",
     "output_type": "stream",
     "text": [
      "Apple\n",
      "Mango\n",
      "Kale\n",
      "Pumpkin\n",
      "And it came out at --> 123\n"
     ]
    }
   ],
   "source": [
    "# break example in for loop\n",
    "lst_1 = [\"Apple\",\"Mango\",\"Kale\",\"Pumpkin\",\"123\",90]\n",
    "for i in lst_1:\n",
    "    if i == \"123\":\n",
    "        break\n",
    "    print(i)\n",
    "print(\"And it came out at -->\",i)"
   ]
  },
  {
   "cell_type": "markdown",
   "id": "31a492e4-37c9-42c1-bf5d-7e7f402d4fcc",
   "metadata": {},
   "source": [
    "## Continue Statement"
   ]
  },
  {
   "cell_type": "code",
   "execution_count": 9,
   "id": "c8f832a1-955a-4e7e-9021-96b5b418434e",
   "metadata": {},
   "outputs": [
    {
     "name": "stdin",
     "output_type": "stream",
     "text": [
      "Give a starting number:  5\n"
     ]
    },
    {
     "name": "stdout",
     "output_type": "stream",
     "text": [
      "Given number is: 5\n",
      "10 11 12 13 14 15 16 17 18 19 20 21 22 23 24 25 26 27 28 29 30 31 32 33 34 35 36 37 38 39 40 41 42 43 44 45 46 47 48 49 \n",
      "This is the last number : 50\n",
      "That's it.\n"
     ]
    }
   ],
   "source": [
    "ask_num = int(input(\"Give a starting number: \"))\n",
    "print(\"Given number is:\",ask_num)\n",
    "while (True):\n",
    "    ask_num += 1\n",
    "    if ask_num <10:\n",
    "        continue\n",
    "    elif ask_num < 50:\n",
    "        print(ask_num,end=' ')\n",
    "        \n",
    "    else:\n",
    "        print()\n",
    "        print(\"This is the last number :\",ask_num)\n",
    "        break\n",
    "print(\"That's it.\")\n"
   ]
  },
  {
   "cell_type": "markdown",
   "id": "5bbecf6d-f07f-4413-9f4f-7928eafe94db",
   "metadata": {},
   "source": [
    "## Pass Statement"
   ]
  },
  {
   "cell_type": "code",
   "execution_count": null,
   "id": "3505aac2-829a-4187-aeb5-b65daf0b6d28",
   "metadata": {},
   "outputs": [],
   "source": [
    "#write only even values and not odd\n",
    "a = int(input(\"Give a number: \"))\n",
    "for i in range (0,a):\n",
    "    if i%2 != 0:\n",
    "        pass\n",
    "    else:\n",
    "        print(i)\n",
    "print(\"We are done.\")\n",
    "    "
   ]
  },
  {
   "cell_type": "code",
   "execution_count": null,
   "id": "8216b529-92b4-4a26-9382-a025d211e61f",
   "metadata": {},
   "outputs": [],
   "source": []
  }
 ],
 "metadata": {
  "kernelspec": {
   "display_name": "Python 3 (ipykernel)",
   "language": "python",
   "name": "python3"
  },
  "language_info": {
   "codemirror_mode": {
    "name": "ipython",
    "version": 3
   },
   "file_extension": ".py",
   "mimetype": "text/x-python",
   "name": "python",
   "nbconvert_exporter": "python",
   "pygments_lexer": "ipython3",
   "version": "3.10.8"
  }
 },
 "nbformat": 4,
 "nbformat_minor": 5
}
