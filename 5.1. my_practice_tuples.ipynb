{
 "cells": [
  {
   "cell_type": "markdown",
   "id": "33deeeca-efc4-4ce3-9e16-d4ca596a33d0",
   "metadata": {},
   "source": [
    "# Tuples"
   ]
  },
  {
   "cell_type": "code",
   "execution_count": 2,
   "id": "c0d86973-a3ff-4ed3-b3e0-861862547590",
   "metadata": {},
   "outputs": [],
   "source": [
    "t = ()"
   ]
  },
  {
   "cell_type": "code",
   "execution_count": 3,
   "id": "ea650e26-585c-4b8d-8451-76bc226b2b06",
   "metadata": {},
   "outputs": [
    {
     "data": {
      "text/plain": [
       "tuple"
      ]
     },
     "execution_count": 3,
     "metadata": {},
     "output_type": "execute_result"
    }
   ],
   "source": [
    "type(t)"
   ]
  },
  {
   "cell_type": "code",
   "execution_count": 14,
   "id": "d798c851-e0d8-4649-a6b7-cf27ec510bb8",
   "metadata": {},
   "outputs": [
    {
     "data": {
      "text/plain": [
       "tuple"
      ]
     },
     "execution_count": 14,
     "metadata": {},
     "output_type": "execute_result"
    }
   ],
   "source": [
    "\n",
    "t1 = (1,2,3,45,53.52,\"Harsh\",False)\n",
    "type(t1)"
   ]
  },
  {
   "cell_type": "code",
   "execution_count": 8,
   "id": "3cde4b62-eb33-4845-abc1-d34ba92e52d3",
   "metadata": {},
   "outputs": [
    {
     "data": {
      "text/plain": [
       "(1, 2, 3, 45, 53.52, 'Harsh', False)"
      ]
     },
     "execution_count": 8,
     "metadata": {},
     "output_type": "execute_result"
    }
   ],
   "source": [
    "t1"
   ]
  },
  {
   "cell_type": "code",
   "execution_count": 11,
   "id": "5dd760d5-0c03-4d96-8277-f31d8ce137bd",
   "metadata": {},
   "outputs": [
    {
     "data": {
      "text/plain": [
       "1"
      ]
     },
     "execution_count": 11,
     "metadata": {},
     "output_type": "execute_result"
    }
   ],
   "source": [
    "t1[0]"
   ]
  },
  {
   "cell_type": "code",
   "execution_count": 13,
   "id": "e5a49431-dc71-41d6-8a73-09bf781a579d",
   "metadata": {},
   "outputs": [
    {
     "data": {
      "text/plain": [
       "False"
      ]
     },
     "execution_count": 13,
     "metadata": {},
     "output_type": "execute_result"
    }
   ],
   "source": [
    "t1[6]"
   ]
  },
  {
   "cell_type": "code",
   "execution_count": 21,
   "id": "82daecd0-22ff-45ae-a167-6252f6c2d6dc",
   "metadata": {},
   "outputs": [
    {
     "data": {
      "text/plain": [
       "(False, 'Harsh', 53.52, 45, 3, 2, 1)"
      ]
     },
     "execution_count": 21,
     "metadata": {},
     "output_type": "execute_result"
    }
   ],
   "source": [
    "#Writing in reverse\n",
    "t1[::-1]"
   ]
  },
  {
   "cell_type": "code",
   "execution_count": 20,
   "id": "b9bbc0d1-5119-4359-af46-0c4526e6a6e3",
   "metadata": {},
   "outputs": [
    {
     "name": "stdout",
     "output_type": "stream",
     "text": [
      "(1, 2, 3, 45, 53.52, 'Harsh', False)\n"
     ]
    }
   ],
   "source": [
    "#item assignment otherwise will be gone\n",
    "t1 = t1[::-1]\n",
    "print(t1)"
   ]
  },
  {
   "cell_type": "markdown",
   "id": "b8210ade-28f6-450e-98f6-23b2c6baab5b",
   "metadata": {},
   "source": [
    "#### Slicing of Tuple"
   ]
  },
  {
   "cell_type": "code",
   "execution_count": 4,
   "id": "7c78399c-fa43-4b26-b291-f5c925538f50",
   "metadata": {},
   "outputs": [
    {
     "data": {
      "text/plain": [
       "(1, 2, 3, 45)"
      ]
     },
     "execution_count": 4,
     "metadata": {},
     "output_type": "execute_result"
    }
   ],
   "source": [
    "#Slicing from Zero to third element\n",
    "t1[0:4]"
   ]
  },
  {
   "cell_type": "code",
   "execution_count": 6,
   "id": "0edf4e93-c4cf-406c-9238-67b583d82158",
   "metadata": {},
   "outputs": [
    {
     "name": "stdout",
     "output_type": "stream",
     "text": [
      "5\n",
      "10\n"
     ]
    }
   ],
   "source": [
    "#let's define a new tuple\n",
    "t2=(1,1,1,1,2,5,3,4,\"Ram\",\"Shyam\",\"Rita\",\"Rita\",True,0,0,False)\n",
    "print(t2.count(1)) #it is counting True as 1 also , that's why giving 5.\n",
    "print(t2.index(\"Rita\")) # gives index of forst element\n"
   ]
  },
  {
   "cell_type": "code",
   "execution_count": 10,
   "id": "2b634e36-acc7-4162-958f-ea145d0ac83c",
   "metadata": {},
   "outputs": [],
   "source": [
    "lst_1 = [1,2,3,\"acb\",\"5.0\"]"
   ]
  },
  {
   "cell_type": "code",
   "execution_count": 11,
   "id": "8bba4899-f62a-4e6f-8ba4-5eec2c9a2a45",
   "metadata": {},
   "outputs": [
    {
     "data": {
      "text/plain": [
       "[1, 2, 3, 'acb', '5.0']"
      ]
     },
     "execution_count": 11,
     "metadata": {},
     "output_type": "execute_result"
    }
   ],
   "source": [
    "lst_1"
   ]
  },
  {
   "cell_type": "code",
   "execution_count": 12,
   "id": "ba508473-5add-4ddc-af7e-b1cb26716386",
   "metadata": {},
   "outputs": [
    {
     "ename": "NameError",
     "evalue": "name 't1' is not defined",
     "output_type": "error",
     "traceback": [
      "\u001b[0;31m---------------------------------------------------------------------------\u001b[0m",
      "\u001b[0;31mNameError\u001b[0m                                 Traceback (most recent call last)",
      "Cell \u001b[0;32mIn[12], line 2\u001b[0m\n\u001b[1;32m      1\u001b[0m \u001b[38;5;66;03m# tuples are immutable\u001b[39;00m\n\u001b[0;32m----> 2\u001b[0m \u001b[43mt1\u001b[49m[\u001b[38;5;241m0\u001b[39m] \u001b[38;5;241m=\u001b[39m \u001b[38;5;124m\"\u001b[39m\u001b[38;5;124ma\u001b[39m\u001b[38;5;124m\"\u001b[39m\n\u001b[1;32m      3\u001b[0m \u001b[38;5;28mprint\u001b[39m(t1)\n",
      "\u001b[0;31mNameError\u001b[0m: name 't1' is not defined"
     ]
    }
   ],
   "source": [
    "# tuples are immutable\n",
    "t1[0] = \"a\"\n",
    "print(t1) # this  can't get executed."
   ]
  },
  {
   "cell_type": "code",
   "execution_count": 17,
   "id": "46e9ef40-f8f5-464f-8b39-a486b55b8b57",
   "metadata": {},
   "outputs": [
    {
     "name": "stdout",
     "output_type": "stream",
     "text": [
      "1 --> <class 'int'>\n",
      "2 --> <class 'int'>\n",
      "3 --> <class 'int'>\n",
      "45 --> <class 'int'>\n",
      "53.52 --> <class 'float'>\n",
      "Harsh --> <class 'str'>\n",
      "False --> <class 'bool'>\n"
     ]
    }
   ],
   "source": [
    "# we can also iterate through tuples.\n",
    "for i in t1:\n",
    "    print(i ,\"-->\",type(i))"
   ]
  },
  {
   "cell_type": "code",
   "execution_count": 18,
   "id": "6b1fa632-04f9-4350-9e67-a7cb46495162",
   "metadata": {},
   "outputs": [
    {
     "data": {
      "text/plain": [
       "((1, 2, 3, 45, 53.52, 'Harsh', False),\n",
       " (1, 1, 1, 1, 2, 5, 3, 4, 'Ram', 'Shyam', 'Rita', 'Rita', True, 0, 0, False))"
      ]
     },
     "execution_count": 18,
     "metadata": {},
     "output_type": "execute_result"
    }
   ],
   "source": [
    "# Nested tuples\n",
    "t_final = (t1,t2)\n",
    "t_final"
   ]
  },
  {
   "cell_type": "code",
   "execution_count": 19,
   "id": "b76bc1ca-7e51-4bf8-b558-4feee12f51c8",
   "metadata": {},
   "outputs": [
    {
     "name": "stdout",
     "output_type": "stream",
     "text": [
      "((1, 2, 3, 45, 53.52, 'Harsh', False), (1, 1, 1, 1, 2, 5, 3, 4, 'Ram', 'Shyam', 'Rita', 'Rita', True, 0, 0, False), [1, 2, 3, 'acb', '5.0'], True)\n"
     ]
    }
   ],
   "source": [
    "# can store any value in tuples like lists, complex numbers, boolean values anything.\n",
    "t_final= (t1,t2,lst_1,True)\n",
    "print(t_final)"
   ]
  },
  {
   "cell_type": "code",
   "execution_count": 20,
   "id": "8b406ba2-d8fa-48b3-a4df-e222bfe210c1",
   "metadata": {},
   "outputs": [
    {
     "data": {
      "text/plain": [
       "4"
      ]
     },
     "execution_count": 20,
     "metadata": {},
     "output_type": "execute_result"
    }
   ],
   "source": [
    "len(t_final)"
   ]
  },
  {
   "cell_type": "code",
   "execution_count": 25,
   "id": "06819ec1-1e2e-48e9-bd4c-ce4c7717d5a3",
   "metadata": {},
   "outputs": [
    {
     "data": {
      "text/plain": [
       "True"
      ]
     },
     "execution_count": 25,
     "metadata": {},
     "output_type": "execute_result"
    }
   ],
   "source": [
    "3 in t_final[0]"
   ]
  },
  {
   "cell_type": "code",
   "execution_count": null,
   "id": "4cdaa08d-6378-4be1-87c8-a29bfc337598",
   "metadata": {},
   "outputs": [],
   "source": []
  }
 ],
 "metadata": {
  "kernelspec": {
   "display_name": "Python 3 (ipykernel)",
   "language": "python",
   "name": "python3"
  },
  "language_info": {
   "codemirror_mode": {
    "name": "ipython",
    "version": 3
   },
   "file_extension": ".py",
   "mimetype": "text/x-python",
   "name": "python",
   "nbconvert_exporter": "python",
   "pygments_lexer": "ipython3",
   "version": "3.10.8"
  }
 },
 "nbformat": 4,
 "nbformat_minor": 5
}
