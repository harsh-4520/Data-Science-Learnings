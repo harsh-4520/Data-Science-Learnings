{
 "cells": [
  {
   "cell_type": "code",
   "execution_count": 18,
   "id": "0b9a82a3-154a-4efa-9b01-b23d29e51ecb",
   "metadata": {},
   "outputs": [],
   "source": [
    "# it is a variable ,'a', and '=' is a assingment operator\n",
    "a = 15"
   ]
  },
  {
   "cell_type": "code",
   "execution_count": 5,
   "id": "f79f648d-ba9e-4c40-82cc-7f166a83c377",
   "metadata": {},
   "outputs": [
    {
     "name": "stdout",
     "output_type": "stream",
     "text": [
      "15\n"
     ]
    }
   ],
   "source": [
    "print(a)"
   ]
  },
  {
   "cell_type": "code",
   "execution_count": 3,
   "id": "00a61d7d-c0d4-4aa8-bb41-982d84e97e5e",
   "metadata": {},
   "outputs": [],
   "source": [
    "#Anything written past # can be treated as comments, and python would not execute it"
   ]
  },
  {
   "cell_type": "code",
   "execution_count": 4,
   "id": "f60036e6-21ee-4c15-a821-b3d901eaa478",
   "metadata": {},
   "outputs": [
    {
     "name": "stdout",
     "output_type": "stream",
     "text": [
      "20\n",
      "21\n"
     ]
    }
   ],
   "source": [
    "b = 20\n",
    "\"\"\"it is a multiline comment.\n",
    "Anything written in more than one lines\n",
    "can't get executed , if it is between three quotes\n",
    "\"\"\"\n",
    "k = 21\n",
    "print(b)\n",
    "print(k)#nothing gets executed between b and k variables"
   ]
  },
  {
   "cell_type": "markdown",
   "id": "93221b45-2202-4f0e-88eb-e8b68b3eaa3a",
   "metadata": {},
   "source": [
    "#  Data Type"
   ]
  },
  {
   "cell_type": "code",
   "execution_count": 4,
   "id": "c53ba6e7-6e3f-4289-b4bf-a6bda34d4d67",
   "metadata": {},
   "outputs": [
    {
     "data": {
      "text/plain": [
       "15"
      ]
     },
     "execution_count": 4,
     "metadata": {},
     "output_type": "execute_result"
    }
   ],
   "source": [
    "a "
   ]
  },
  {
   "cell_type": "code",
   "execution_count": 5,
   "id": "4e6eb3b0-2380-49f8-b233-ad8ab12a5ec0",
   "metadata": {},
   "outputs": [
    {
     "data": {
      "text/plain": [
       "int"
      ]
     },
     "execution_count": 5,
     "metadata": {},
     "output_type": "execute_result"
    }
   ],
   "source": [
    "type(a) #integer type"
   ]
  },
  {
   "cell_type": "code",
   "execution_count": 6,
   "id": "0d9fe8b3-94b7-42c3-bd57-725b6a99e36a",
   "metadata": {},
   "outputs": [],
   "source": [
    "flo = 2.5  #float type"
   ]
  },
  {
   "cell_type": "code",
   "execution_count": 7,
   "id": "a9bcbadd-36fb-44f2-9fb1-f17825c9e85e",
   "metadata": {},
   "outputs": [
    {
     "data": {
      "text/plain": [
       "float"
      ]
     },
     "execution_count": 7,
     "metadata": {},
     "output_type": "execute_result"
    }
   ],
   "source": [
    "type(flo)"
   ]
  },
  {
   "cell_type": "code",
   "execution_count": 8,
   "id": "7b3c7a91-13f9-43b5-b365-c445d8f521cf",
   "metadata": {},
   "outputs": [
    {
     "data": {
      "text/plain": [
       "str"
      ]
     },
     "execution_count": 8,
     "metadata": {},
     "output_type": "execute_result"
    }
   ],
   "source": [
    "string = \"Harsh\"\n",
    "type(string) #string type"
   ]
  },
  {
   "cell_type": "code",
   "execution_count": 9,
   "id": "56f65913-d52b-487e-b783-6f8cca407672",
   "metadata": {},
   "outputs": [
    {
     "data": {
      "text/plain": [
       "complex"
      ]
     },
     "execution_count": 9,
     "metadata": {},
     "output_type": "execute_result"
    }
   ],
   "source": [
    "com = 3+5j  #complex type\n",
    "type(com)    "
   ]
  },
  {
   "cell_type": "markdown",
   "id": "c50b320b-4b98-4663-bc4a-3041808fe8a6",
   "metadata": {},
   "source": [
    "## Type Casting"
   ]
  },
  {
   "cell_type": "code",
   "execution_count": 10,
   "id": "6282fec9-99e0-4754-8c45-fdd33213d09a",
   "metadata": {},
   "outputs": [],
   "source": [
    "# When we change the type of a variable, it's called Type casting."
   ]
  },
  {
   "cell_type": "code",
   "execution_count": 19,
   "id": "101742fa-27c7-4162-ba16-9effd81a6328",
   "metadata": {},
   "outputs": [
    {
     "name": "stdout",
     "output_type": "stream",
     "text": [
      "15\n"
     ]
    }
   ],
   "source": [
    "a = str(a)\n",
    "print(a)"
   ]
  },
  {
   "cell_type": "code",
   "execution_count": 7,
   "id": "59d9b9b6-231e-4772-9bf0-99f272a3e487",
   "metadata": {},
   "outputs": [
    {
     "data": {
      "text/plain": [
       "str"
      ]
     },
     "execution_count": 7,
     "metadata": {},
     "output_type": "execute_result"
    }
   ],
   "source": [
    "type(a)"
   ]
  },
  {
   "cell_type": "code",
   "execution_count": 20,
   "id": "60d0d422-11fc-40e0-8f1b-8e8a3ccdd7db",
   "metadata": {},
   "outputs": [
    {
     "data": {
      "text/plain": [
       "float"
      ]
     },
     "execution_count": 20,
     "metadata": {},
     "output_type": "execute_result"
    }
   ],
   "source": [
    "b = float(a)\n",
    "type(b)"
   ]
  },
  {
   "cell_type": "code",
   "execution_count": 21,
   "id": "629ff2d1-4fd1-4648-8de9-b5b6465eecc4",
   "metadata": {},
   "outputs": [
    {
     "ename": "ValueError",
     "evalue": "invalid literal for int() with base 10: 'hii there'",
     "output_type": "error",
     "traceback": [
      "\u001b[0;31m---------------------------------------------------------------------------\u001b[0m",
      "\u001b[0;31mValueError\u001b[0m                                Traceback (most recent call last)",
      "Cell \u001b[0;32mIn[21], line 3\u001b[0m\n\u001b[1;32m      1\u001b[0m \u001b[38;5;66;03m# strings can't get converted in int\u001b[39;00m\n\u001b[1;32m      2\u001b[0m str_2 \u001b[38;5;241m=\u001b[39m \u001b[38;5;124m\"\u001b[39m\u001b[38;5;124mhii there\u001b[39m\u001b[38;5;124m\"\u001b[39m\n\u001b[0;32m----> 3\u001b[0m \u001b[38;5;28mprint\u001b[39m(\u001b[38;5;28;43mint\u001b[39;49m\u001b[43m(\u001b[49m\u001b[43mstr_2\u001b[49m\u001b[43m)\u001b[49m)\n",
      "\u001b[0;31mValueError\u001b[0m: invalid literal for int() with base 10: 'hii there'"
     ]
    }
   ],
   "source": [
    "# strings can't get converted in int\n",
    "str_2 = \"hii there\"\n",
    "print(int(str_2)) #this will not work"
   ]
  },
  {
   "cell_type": "markdown",
   "id": "08e3dcf8-9643-4aef-bcc1-923afd8d66a7",
   "metadata": {},
   "source": [
    "### Concatenation"
   ]
  },
  {
   "cell_type": "code",
   "execution_count": 12,
   "id": "b85054f3-d307-4957-9225-9fab93b9c265",
   "metadata": {},
   "outputs": [],
   "source": [
    "str_1 = \"My name is \"\n",
    "str_2 = \"Harsh Goswami\""
   ]
  },
  {
   "cell_type": "code",
   "execution_count": 13,
   "id": "462beea5-e0e2-4ada-89a4-e5af87f771b3",
   "metadata": {},
   "outputs": [
    {
     "name": "stdout",
     "output_type": "stream",
     "text": [
      "My name is Harsh Goswami\n"
     ]
    }
   ],
   "source": [
    "print(str_1+str_2) #joins two or more part"
   ]
  },
  {
   "cell_type": "code",
   "execution_count": 17,
   "id": "93d2cfe0-e23e-42b4-9273-e4401887904e",
   "metadata": {},
   "outputs": [
    {
     "name": "stdout",
     "output_type": "stream",
     "text": [
      "abcABCabcABCabcABCabcABCabcABCabcABCabcABCabcABCabcABCabcABC\n"
     ]
    }
   ],
   "source": [
    "str_3 = \"abcABC\"\n",
    "print(str_3*10)"
   ]
  },
  {
   "cell_type": "markdown",
   "id": "bc404ee2-1ee6-4e84-aef4-acb55f12bbb7",
   "metadata": {},
   "source": [
    "### Modify Strings"
   ]
  },
  {
   "cell_type": "code",
   "execution_count": 20,
   "id": "95197947-33eb-4580-9fde-e0959459bd66",
   "metadata": {},
   "outputs": [
    {
     "name": "stdout",
     "output_type": "stream",
     "text": [
      "My name is\n",
      "Harsh Goswami\n"
     ]
    }
   ],
   "source": [
    "#python is case sensitive\n",
    "sample_1 = \"My name is\"\n",
    "SAMPLE_1 = \"Harsh Goswami\"\n",
    "print(sample_1)    #These both lines\n",
    "print(SAMPLE_1)    #gets executed."
   ]
  },
  {
   "cell_type": "code",
   "execution_count": 22,
   "id": "6993f50d-53e2-44a3-82c4-2bfab4beaa3a",
   "metadata": {},
   "outputs": [
    {
     "data": {
      "text/plain": [
       "'MY NAME IS'"
      ]
     },
     "execution_count": 22,
     "metadata": {},
     "output_type": "execute_result"
    }
   ],
   "source": [
    "#converting into Uppercase \n",
    "sample_1.upper()"
   ]
  },
  {
   "cell_type": "code",
   "execution_count": 23,
   "id": "ed3a8530-ffa0-4c1f-b11f-657e8cac8014",
   "metadata": {},
   "outputs": [
    {
     "data": {
      "text/plain": [
       "['I', 'am', 'learning', ',Data', 'Science,', 'cuz', 'learning', 'is', 'fun.']"
      ]
     },
     "execution_count": 23,
     "metadata": {},
     "output_type": "execute_result"
    }
   ],
   "source": [
    "new_line = \"I am learning ,Data Science, cuz learning is fun.\"\n",
    "new_line.split()  #splits after every word if reference point is not given."
   ]
  },
  {
   "cell_type": "code",
   "execution_count": 25,
   "id": "25351aee-9d67-4947-9e5b-94e74300be49",
   "metadata": {},
   "outputs": [
    {
     "data": {
      "text/plain": [
       "['I am learning ', 'Data Science', ' cuz learning is fun.']"
      ]
     },
     "execution_count": 25,
     "metadata": {},
     "output_type": "execute_result"
    }
   ],
   "source": [
    "new_line.split(\",\")  #splits by comma which asts as a reference point"
   ]
  },
  {
   "cell_type": "code",
   "execution_count": 26,
   "id": "2902f124-15cf-4ad5-ae28-0c603a8ac3e8",
   "metadata": {},
   "outputs": [
    {
     "data": {
      "text/plain": [
       "'harsh goswami'"
      ]
     },
     "execution_count": 26,
     "metadata": {},
     "output_type": "execute_result"
    }
   ],
   "source": [
    "SAMPLE_1.casefold()"
   ]
  },
  {
   "cell_type": "code",
   "execution_count": 27,
   "id": "905bb4ef-c923-473c-ba8c-e712577683cf",
   "metadata": {},
   "outputs": [
    {
     "data": {
      "text/plain": [
       "'my name is'"
      ]
     },
     "execution_count": 27,
     "metadata": {},
     "output_type": "execute_result"
    }
   ],
   "source": [
    "sample_1.casefold()"
   ]
  },
  {
   "cell_type": "code",
   "execution_count": 1,
   "id": "0aca3084-4b8d-4b3d-b0d2-23b002c90b7d",
   "metadata": {},
   "outputs": [
    {
     "name": "stdout",
     "output_type": "stream",
     "text": [
      "My age is 21\n"
     ]
    }
   ],
   "source": [
    "age = 21\n",
    "print(\"My age is\",age)"
   ]
  },
  {
   "cell_type": "code",
   "execution_count": 8,
   "id": "fc201235-a732-40e1-9762-1d05a81f3bc8",
   "metadata": {},
   "outputs": [
    {
     "name": "stdout",
     "output_type": "stream",
     "text": [
      "My age is: 21.\n"
     ]
    }
   ],
   "source": [
    "#fstring\n",
    "print(f\"My age is: {age}.\")"
   ]
  },
  {
   "cell_type": "code",
   "execution_count": 10,
   "id": "3a1119e8-0aef-4869-a643-c18b0138ac8f",
   "metadata": {},
   "outputs": [
    {
     "name": "stdout",
     "output_type": "stream",
     "text": [
      "My name is Harsh and age is 21.\n"
     ]
    }
   ],
   "source": [
    "#format\n",
    "name = \"Harsh\"\n",
    "age = 21\n",
    "print(\"My name is {} and age is {}.\".format(name,age))"
   ]
  },
  {
   "cell_type": "code",
   "execution_count": null,
   "id": "a569d564-cf91-4fac-8006-17aebc4ff845",
   "metadata": {},
   "outputs": [],
   "source": []
  }
 ],
 "metadata": {
  "kernelspec": {
   "display_name": "Python 3 (ipykernel)",
   "language": "python",
   "name": "python3"
  },
  "language_info": {
   "codemirror_mode": {
    "name": "ipython",
    "version": 3
   },
   "file_extension": ".py",
   "mimetype": "text/x-python",
   "name": "python",
   "nbconvert_exporter": "python",
   "pygments_lexer": "ipython3",
   "version": "3.10.8"
  }
 },
 "nbformat": 4,
 "nbformat_minor": 5
}
